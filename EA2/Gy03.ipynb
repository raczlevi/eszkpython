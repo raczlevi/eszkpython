{
 "cells": [
  {
   "cell_type": "markdown",
   "metadata": {},
   "source": [
    "# Python - 2. gyakorlat\n",
    "## Változók, számok, kasztolás, sztringek, operátorok\n",
    "\n",
    "#### Tóth Zoltán\n",
    "#### 2018.09.25. 19:15-21:00"
   ]
  },
  {
   "cell_type": "markdown",
   "metadata": {},
   "source": [
    "# Számok"
   ]
  },
  {
   "cell_type": "markdown",
   "metadata": {},
   "source": [
    "## 1. Kérj be két számot és írd ki az összegüket "
   ]
  },
  {
   "cell_type": "code",
   "execution_count": 1,
   "metadata": {},
   "outputs": [
    {
     "name": "stdout",
     "output_type": "stream",
     "text": [
      "Kérem az első számot! 1\n",
      "Kérem a második számot! 2.10\n",
      "1.0 + 2.1 = 3.1\n"
     ]
    }
   ],
   "source": [
    "x = float(input(\"Kérem az első számot! \"))\n",
    "y = float(input(\"Kérem a második számot! \"))\n",
    "print(x, \"+\", y, \"=\", x+y)"
   ]
  },
  {
   "cell_type": "markdown",
   "metadata": {},
   "source": [
    "## 2. Kérj be két számot és írd ki a különbségüket"
   ]
  },
  {
   "cell_type": "code",
   "execution_count": 2,
   "metadata": {},
   "outputs": [
    {
     "name": "stdout",
     "output_type": "stream",
     "text": [
      "Kérem az első számot! 2\n",
      "Kérem a második számot! 1.2\n",
      "2.0 - 1.2 = 0.8\n"
     ]
    }
   ],
   "source": [
    "x = float(input(\"Kérem az első számot! \"))\n",
    "y = float(input(\"Kérem a második számot! \"))\n",
    "print(x, \"-\", y, \"=\", x-y)"
   ]
  },
  {
   "cell_type": "markdown",
   "metadata": {},
   "source": [
    "## 3. Kérj be két számot és írd ki a szorzatukat"
   ]
  },
  {
   "cell_type": "code",
   "execution_count": 3,
   "metadata": {},
   "outputs": [
    {
     "name": "stdout",
     "output_type": "stream",
     "text": [
      "Kérem az első számot! 2\n",
      "Kérem a második számot! 1\n",
      "2.0 * 1.0 = 2.0\n"
     ]
    }
   ],
   "source": [
    "x = float(input(\"Kérem az első számot! \"))\n",
    "y = float(input(\"Kérem a második számot! \"))\n",
    "print(x, \"*\", y, \"=\", x*y)"
   ]
  },
  {
   "cell_type": "markdown",
   "metadata": {},
   "source": [
    "## 4. Kérj be két számot és írd ki a hányadosukat"
   ]
  },
  {
   "cell_type": "code",
   "execution_count": 4,
   "metadata": {},
   "outputs": [
    {
     "name": "stdout",
     "output_type": "stream",
     "text": [
      "Kérem az első számot! 2\n",
      "Kérem a második számot! 1\n",
      "2.0 / 1.0 = 2.0\n"
     ]
    }
   ],
   "source": [
    "x = float(input(\"Kérem az első számot! \"))\n",
    "y = float(input(\"Kérem a második számot! \"))\n",
    "print(x, \"/\", y, \"=\", x/y)"
   ]
  },
  {
   "cell_type": "markdown",
   "metadata": {},
   "source": [
    "# Sztringek"
   ]
  },
  {
   "cell_type": "markdown",
   "metadata": {},
   "source": [
    "## 1. Kérd be a felhasználó nevét és köszöntsd!\n",
    "Pl.:\n",
    "`>> Zoli`\n",
    "\n",
    "`>> Szia, Zoli!`"
   ]
  },
  {
   "cell_type": "code",
   "execution_count": 8,
   "metadata": {},
   "outputs": [
    {
     "name": "stdout",
     "output_type": "stream",
     "text": [
      "Mi a neved?\n",
      "Zoli\n",
      "Szia Zoli!\n"
     ]
    }
   ],
   "source": [
    "x = input(\"Mi a neved?\\n\")\n",
    "print(\"Szia \", x, \"!\", sep=\"\")"
   ]
  },
  {
   "cell_type": "markdown",
   "metadata": {},
   "source": [
    "## 2. Kérj be egy random sztringet és írd ki, hogy hány magánhangzó található benne!\n",
    "Segítség: `for i in str:` vagy `if i in str:`"
   ]
  },
  {
   "cell_type": "code",
   "execution_count": 9,
   "metadata": {},
   "outputs": [
    {
     "name": "stdout",
     "output_type": "stream",
     "text": [
      "Kérem a szöveget, hogy megmondjam, hány magánhangzó van benne!\n",
      "Leviiii\n",
      "Magánhangzók száma: 5\n"
     ]
    }
   ],
   "source": [
    "num=0\n",
    "inp = str(input(\"Kérem a szöveget, hogy megmondjam, hány magánhangzó van benne!\\n\"))\n",
    "for i in inp:\n",
    "    if i in \"aeouiáéőúóüöí\":\n",
    "        num += 1\n",
    "print(\"Magánhangzók száma:\", num)"
   ]
  },
  {
   "cell_type": "markdown",
   "metadata": {},
   "source": [
    "## 3. Kicsit tréfáljuk meg a másikat! ;)\n",
    "Tegyünk fel kérdéseket, amikre válaszolhat a szám megadásával, majd írjuk ki, hogy milyen ember is ő! Maximum kettő kérdés legyen és kettő opció!"
   ]
  },
  {
   "cell_type": "code",
   "execution_count": 10,
   "metadata": {},
   "outputs": [
    {
     "name": "stdout",
     "output_type": "stream",
     "text": [
      "Hány éves vagy?\n",
      "1: >20\n",
      "2: <=20\n",
      "1\n",
      "Mi?\n",
      "1: az\n",
      "2: ez\n",
      "2\n",
      "Kiráy vagy!\n"
     ]
    }
   ],
   "source": [
    "k1 = int(input(\"Hány éves vagy?\\n1: >20\\n2: <=20\\n\"))\n",
    "k2 = int(input(\"Mi?\\n1: az\\n2: ez\\n\"))\n",
    "t = \"Kiráy vagy!\" if (k1 + k2 > 2) else \"Gáz!\"\n",
    "print(t)"
   ]
  },
  {
   "cell_type": "markdown",
   "metadata": {},
   "source": [
    "## 4. Kérjünk be egy értelmes szöveget és csak a 3. és 10. karakter közöttit írjuk ki!"
   ]
  },
  {
   "cell_type": "code",
   "execution_count": 11,
   "metadata": {},
   "outputs": [
    {
     "name": "stdout",
     "output_type": "stream",
     "text": [
      "Kérek egy szöveget!\n",
      "dasgag as agad g adad ad \n",
      "gag as a\n"
     ]
    }
   ],
   "source": [
    "inp = input(\"Kérek egy szöveget!\\n\")\n",
    "print(inp[3:11])"
   ]
  },
  {
   "cell_type": "markdown",
   "metadata": {},
   "source": [
    "# Kasztolás"
   ]
  },
  {
   "cell_type": "markdown",
   "metadata": {},
   "source": [
    "## 1. Kérjünk be egy számot és az osztó legyen 1!"
   ]
  },
  {
   "cell_type": "code",
   "execution_count": 13,
   "metadata": {},
   "outputs": [
    {
     "name": "stdout",
     "output_type": "stream",
     "text": [
      "32\n",
      "32.0\n"
     ]
    },
    {
     "data": {
      "text/plain": [
       "float"
      ]
     },
     "execution_count": 13,
     "metadata": {},
     "output_type": "execute_result"
    }
   ],
   "source": [
    "szam = int(input())\n",
    "print(szam / 1)\n",
    "type(szam / 1)"
   ]
  },
  {
   "cell_type": "markdown",
   "metadata": {},
   "source": [
    "Mi történt és miért?"
   ]
  },
  {
   "cell_type": "markdown",
   "metadata": {},
   "source": [
    "## 2. Próbáljuk meg megint, de most kasztoljunk az érték behívásakor!"
   ]
  },
  {
   "cell_type": "code",
   "execution_count": null,
   "metadata": {},
   "outputs": [],
   "source": []
  },
  {
   "cell_type": "markdown",
   "metadata": {},
   "source": [
    "Mit tapasztalunk most?"
   ]
  },
  {
   "cell_type": "markdown",
   "metadata": {},
   "source": [
    "## 3. Kasztolásra fel!"
   ]
  },
  {
   "cell_type": "markdown",
   "metadata": {},
   "source": [
    "### 3.1. Egészből lebegőpontosba"
   ]
  },
  {
   "cell_type": "code",
   "execution_count": null,
   "metadata": {},
   "outputs": [],
   "source": []
  },
  {
   "cell_type": "markdown",
   "metadata": {},
   "source": [
    "Végezzünk aritmetikai műveleteket előtte és utána! Mit tapsztalsz?"
   ]
  },
  {
   "cell_type": "code",
   "execution_count": null,
   "metadata": {},
   "outputs": [],
   "source": []
  },
  {
   "cell_type": "code",
   "execution_count": null,
   "metadata": {},
   "outputs": [],
   "source": []
  },
  {
   "cell_type": "code",
   "execution_count": null,
   "metadata": {},
   "outputs": [],
   "source": []
  },
  {
   "cell_type": "code",
   "execution_count": null,
   "metadata": {},
   "outputs": [],
   "source": []
  },
  {
   "cell_type": "code",
   "execution_count": null,
   "metadata": {},
   "outputs": [],
   "source": []
  },
  {
   "cell_type": "code",
   "execution_count": null,
   "metadata": {},
   "outputs": [],
   "source": []
  },
  {
   "cell_type": "markdown",
   "metadata": {},
   "source": [
    "### 3.1. Lebegőpontosból egészbe\n",
    "Mi a tapasztalat?"
   ]
  },
  {
   "cell_type": "code",
   "execution_count": null,
   "metadata": {},
   "outputs": [],
   "source": []
  },
  {
   "cell_type": "code",
   "execution_count": null,
   "metadata": {},
   "outputs": [],
   "source": []
  },
  {
   "cell_type": "markdown",
   "metadata": {},
   "source": [
    "### 3.1. Sztringből számolás\n",
    "Kérjünk be a bemeneten két számot és azt kasztoljuk sztringgé! majd végezzünk velük műveleteket! Mit tapsztalsz?"
   ]
  },
  {
   "cell_type": "code",
   "execution_count": null,
   "metadata": {},
   "outputs": [],
   "source": []
  },
  {
   "cell_type": "markdown",
   "metadata": {},
   "source": [
    "Kasztoljunk közben! Mi a tapasztalat?"
   ]
  },
  {
   "cell_type": "code",
   "execution_count": null,
   "metadata": {},
   "outputs": [],
   "source": []
  },
  {
   "cell_type": "markdown",
   "metadata": {},
   "source": [
    "Érjük egy, hogy a vesszőt is értelmezni tudja!"
   ]
  },
  {
   "cell_type": "code",
   "execution_count": null,
   "metadata": {},
   "outputs": [],
   "source": []
  },
  {
   "cell_type": "markdown",
   "metadata": {},
   "source": [
    "# Operátorok"
   ]
  },
  {
   "cell_type": "markdown",
   "metadata": {},
   "source": [
    "Szabad feladat: készítsen egy egyszerű számológépet. A bekért adatok alapján végezze el az egyszerűbb számításokat!"
   ]
  },
  {
   "cell_type": "code",
   "execution_count": 24,
   "metadata": {},
   "outputs": [
    {
     "name": "stdout",
     "output_type": "stream",
     "text": [
      "12+12\n",
      "['12', '12']\n",
      "['', '', '+', '', '']\n"
     ]
    }
   ],
   "source": [
    "import re\n",
    "\n",
    "inp = input()\n",
    "\n",
    "szamok = re.split(\"\\+|\\-|\\/|\\*|\\n\", inp)\n",
    "muveletek = re.split(\"0|1|2|3|4|5|6|7|8|9|\\n\", inp)\n",
    "\n",
    "print(szamok)\n",
    "print(muveletek)\n"
   ]
  }
 ],
 "metadata": {
  "kernelspec": {
   "display_name": "Python 3",
   "language": "python",
   "name": "python3"
  },
  "language_info": {
   "codemirror_mode": {
    "name": "ipython",
    "version": 3
   },
   "file_extension": ".py",
   "mimetype": "text/x-python",
   "name": "python",
   "nbconvert_exporter": "python",
   "pygments_lexer": "ipython3",
   "version": "3.6.5"
  }
 },
 "nbformat": 4,
 "nbformat_minor": 2
}
