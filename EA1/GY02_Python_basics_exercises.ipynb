{
 "cells": [
  {
   "cell_type": "markdown",
   "metadata": {},
   "source": [
    "# Python basic exercises\n",
    "\n",
    "### 2018. szeptember 18. 19.45-21:00, V1.404\n",
    "\n",
    "#### Tóth Zoltán\n",
    "\n",
    "\n",
    "\n",
    "## 1. `range()` practice\n",
    "\n",
    "### 1.1 Print the numbers between 70 and 79 inclusive."
   ]
  },
  {
   "cell_type": "code",
   "execution_count": 1,
   "metadata": {},
   "outputs": [
    {
     "name": "stdout",
     "output_type": "stream",
     "text": [
      "70\n",
      "71\n",
      "72\n",
      "73\n",
      "74\n",
      "75\n",
      "76\n",
      "77\n",
      "78\n",
      "79\n"
     ]
    }
   ],
   "source": [
    "for i in range(70, 80):\n",
    "    print(i)"
   ]
  },
  {
   "cell_type": "markdown",
   "metadata": {},
   "source": [
    "### 1.2 Print the first 10 square numbers starting from 1."
   ]
  },
  {
   "cell_type": "code",
   "execution_count": 2,
   "metadata": {},
   "outputs": [
    {
     "name": "stdout",
     "output_type": "stream",
     "text": [
      "1\n",
      "4\n",
      "9\n",
      "16\n",
      "25\n",
      "36\n",
      "49\n",
      "64\n",
      "81\n",
      "100\n"
     ]
    }
   ],
   "source": [
    "for i in range(1, 11):\n",
    "    print(i**2)"
   ]
  },
  {
   "cell_type": "markdown",
   "metadata": {},
   "source": [
    "### \\*1.3 Print the numbers from 19 to 10 (backwards)."
   ]
  },
  {
   "cell_type": "code",
   "execution_count": 4,
   "metadata": {},
   "outputs": [
    {
     "name": "stdout",
     "output_type": "stream",
     "text": [
      "19\n",
      "18\n",
      "17\n",
      "16\n",
      "15\n",
      "14\n",
      "13\n",
      "12\n",
      "11\n",
      "10\n"
     ]
    }
   ],
   "source": [
    "for i in range(19, 9, -1):\n",
    "    print(i)"
   ]
  },
  {
   "cell_type": "markdown",
   "metadata": {},
   "source": [
    "## 2. Reading user input\n",
    "\n",
    "User input can be read with the `input()` function. It always returns a string which can be converted to integer using the `int()` function."
   ]
  },
  {
   "cell_type": "code",
   "execution_count": null,
   "metadata": {},
   "outputs": [],
   "source": [
    "n = input()\n",
    "int(n)"
   ]
  },
  {
   "cell_type": "markdown",
   "metadata": {},
   "source": [
    "### 2.1 Read a number N and print the numbers from 1 to N."
   ]
  },
  {
   "cell_type": "code",
   "execution_count": 13,
   "metadata": {},
   "outputs": [
    {
     "name": "stdout",
     "output_type": "stream",
     "text": [
      "Mi legyen N értéke? 4\n",
      "1\n",
      "2\n",
      "3\n",
      "4\n"
     ]
    }
   ],
   "source": [
    "N = int(input(\"Mi legyen N értéke? \"))\n",
    "\n",
    "for i in range(1, N+1):\n",
    "    print(i)"
   ]
  },
  {
   "cell_type": "markdown",
   "metadata": {},
   "source": [
    "### 2.2 Read a number N and print the first N square numbers starting from 1."
   ]
  },
  {
   "cell_type": "code",
   "execution_count": 16,
   "metadata": {},
   "outputs": [
    {
     "name": "stdout",
     "output_type": "stream",
     "text": [
      "Mi legyen N értéke? 3\n",
      "1.:\t1\n",
      "2.:\t4\n",
      "3.:\t9\n"
     ]
    }
   ],
   "source": [
    "N = int(input(\"Mi legyen N értéke? \"))\n",
    "\n",
    "for i in range(1, N+1):\n",
    "    print(i, i**2, sep=\".:\\t\", end=\"\\n\")"
   ]
  },
  {
   "cell_type": "markdown",
   "metadata": {},
   "source": [
    "### 2.3 Read numbers until 0 and print their sum."
   ]
  },
  {
   "cell_type": "code",
   "execution_count": 3,
   "metadata": {},
   "outputs": [
    {
     "name": "stdout",
     "output_type": "stream",
     "text": [
      "Kérem a következő számot: 2\n",
      "Kérem a következő számot: 1\n",
      "Kérem a következő számot: 0\n",
      "Meg is van a nulla! Az összegük: 3\n"
     ]
    }
   ],
   "source": [
    "s = 0\n",
    "while (1==1):\n",
    "    N = int(input(\"Kérem a következő számot: \"))\n",
    "    if(N == 0):\n",
    "        break;\n",
    "    s = s+N\n",
    "print(\"Meg is van a nulla! Az összegük:\", s, sep=\" \")"
   ]
  },
  {
   "cell_type": "markdown",
   "metadata": {},
   "source": [
    "### \\*2.4 Read numbers until 0 and print their mean and standard deviation without using a list."
   ]
  },
  {
   "cell_type": "code",
   "execution_count": 5,
   "metadata": {},
   "outputs": [
    {
     "name": "stdout",
     "output_type": "stream",
     "text": [
      "Kérem az első számot: 2\n",
      "Kérem a következő számot: 1\n",
      "Kérem a következő számot: 0\n",
      "Mean: 1.5\n",
      "Standard deviation: 0.5\n"
     ]
    }
   ],
   "source": [
    "s = 0.0\n",
    "sq_s = 0.0\n",
    "cnt = 0\n",
    "\n",
    "n = int(input(\"Kérem az első számot: \"))\n",
    "while n != 0:\n",
    "    cnt += 1\n",
    "    s += n\n",
    "    sq_s += n**2\n",
    "    n = int(input(\"Kérem a következő számot: \"))\n",
    "    \n",
    "s /= cnt\n",
    "sq_s /= cnt\n",
    "\n",
    "print(\"Mean:\", s)\n",
    "print(\"Standard deviation:\", (sq_s - s**2) ** 0.5)"
   ]
  }
 ],
 "metadata": {
  "kernelspec": {
   "display_name": "Python 3",
   "language": "python",
   "name": "python3"
  },
  "language_info": {
   "codemirror_mode": {
    "name": "ipython",
    "version": 3
   },
   "file_extension": ".py",
   "mimetype": "text/x-python",
   "name": "python",
   "nbconvert_exporter": "python",
   "pygments_lexer": "ipython3",
   "version": "3.6.5"
  },
  "toc": {
   "colors": {
    "hover_highlight": "#DAA520",
    "navigate_num": "#000000",
    "navigate_text": "#333333",
    "running_highlight": "#FF0000",
    "selected_highlight": "#FFD700",
    "sidebar_border": "#EEEEEE",
    "wrapper_background": "#FFFFFF"
   },
   "moveMenuLeft": true,
   "nav_menu": {
    "height": "12px",
    "width": "252px"
   },
   "navigate_menu": true,
   "number_sections": true,
   "sideBar": true,
   "threshold": 4,
   "toc_cell": false,
   "toc_section_display": "block",
   "toc_window_display": false,
   "widenNotebook": false
  }
 },
 "nbformat": 4,
 "nbformat_minor": 2
}
