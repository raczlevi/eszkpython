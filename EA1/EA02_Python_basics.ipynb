{
 "cells": [
  {
   "cell_type": "markdown",
   "metadata": {
    "slideshow": {
     "slide_type": "slide"
    }
   },
   "source": [
    "### Bevezetés -  Python\n",
    "\n",
    "### 2018. szeptember 18. 18.30-19:30, V1.404\n",
    "\n",
    "#### Tóth Zoltán"
   ]
  },
  {
   "cell_type": "markdown",
   "metadata": {
    "slideshow": {
     "slide_type": "slide"
    }
   },
   "source": [
    "# History of Python\n",
    "\n",
    "- Python started as a hobby project of Dutch programmer, Guido van Rossum in 1989.\n",
    "- Python 1.0 in 1994\n",
    "- Python 2.0 in 2000\n",
    "  - cycle-detecting garbage collector\n",
    "  - Unicode support\n",
    "- Python 3.0 in 2008\n",
    "  - backward incompatible\n",
    "- Python2 End-of-Life (EOL) date was postponed from 2015 to 2020"
   ]
  },
  {
   "cell_type": "markdown",
   "metadata": {
    "collapsed": true,
    "slideshow": {
     "slide_type": "subslide"
    }
   },
   "source": [
    " # Benevolent Dictator for Life\n",
    " \n",
    " <img width=\"400\" alt=\"portfolio_view\" src=\"https://upload.wikimedia.org/wikipedia/commons/6/66/Guido_van_Rossum_OSCON_2006.jpg\">\n",
    " Guido van Rossum at OSCON 2006. by [Doc Searls](https://www.flickr.com/photos/docsearls/) licensed under [CC BY 2.0](https://creativecommons.org/licenses/by/2.0/)"
   ]
  },
  {
   "cell_type": "markdown",
   "metadata": {
    "collapsed": true,
    "slideshow": {
     "slide_type": "slide"
    }
   },
   "source": [
    "# Python community and development\n",
    "\n",
    "- Python Software Foundation nonprofit organization based in Delaware, US\n",
    "- managed through PEPs (Python Enhancement Proposal)\n",
    "- strong community inclusion\n",
    "- large standard library\n",
    "- very large third-party module repository called PyPI (Python Package Index)\n",
    "- pip installer"
   ]
  },
  {
   "cell_type": "code",
   "execution_count": null,
   "metadata": {
    "slideshow": {
     "slide_type": "subslide"
    }
   },
   "outputs": [],
   "source": [
    "import antigravity"
   ]
  },
  {
   "cell_type": "markdown",
   "metadata": {
    "slideshow": {
     "slide_type": "slide"
    }
   },
   "source": [
    "## Python neologisms\n",
    "\n",
    "- the Python community has a number of made-up expressions\n",
    "- _Pythonic_: following Python's conventions, Python-like\n",
    "- _Pythonist_ or _Pythonista_: good Python programmer"
   ]
  },
  {
   "cell_type": "markdown",
   "metadata": {},
   "source": [
    "# PEP8, the Python style guide\n",
    "\n",
    "- widely accepted style guide for Python\n",
    "- [PEP8](https://www.python.org/dev/peps/pep-0008/) by Guido himself, 2001\n",
    "\n",
    "Specifies:\n",
    "\n",
    "- indentation\n",
    "- line length\n",
    "- module imports\n",
    "- class names, function names etc.\n",
    "\n",
    "We shall use PEP8 throughout this course."
   ]
  },
  {
   "cell_type": "markdown",
   "metadata": {
    "slideshow": {
     "slide_type": "slide"
    }
   },
   "source": [
    "# General properties of Python"
   ]
  },
  {
   "cell_type": "markdown",
   "metadata": {
    "slideshow": {
     "slide_type": "slide"
    }
   },
   "source": [
    "## Whitespaces\n",
    "\n",
    "- whitespace indentation instead of curly braces"
   ]
  },
  {
   "cell_type": "code",
   "execution_count": null,
   "metadata": {},
   "outputs": [],
   "source": [
    "n = 12\n",
    "if n % 2 == 0:\n",
    "    print(\"n is even\")\n",
    "else:\n",
    "    print(\"n is odd\")"
   ]
  },
  {
   "cell_type": "markdown",
   "metadata": {},
   "source": [
    "- `\\n` signifies the end of a statement, no need for semicolons\n",
    "- but semicolons can be used for multiple statements in one line (it is very unPythonic)"
   ]
  },
  {
   "cell_type": "code",
   "execution_count": null,
   "metadata": {},
   "outputs": [],
   "source": [
    "i = 2; j = 3\n",
    "i + j"
   ]
  },
  {
   "cell_type": "markdown",
   "metadata": {
    "slideshow": {
     "slide_type": "slide"
    }
   },
   "source": [
    "## Dynamic typing\n",
    "\n",
    "- type checking is performed at run-time as opposed to compile-time (C++)\n",
    "- variables are created upon assignment\n",
    "- type is inferred from the initial value"
   ]
  },
  {
   "cell_type": "code",
   "execution_count": null,
   "metadata": {},
   "outputs": [],
   "source": [
    "n = 2\n",
    "print(type(n))\n",
    "\n",
    "n = 2.1\n",
    "print(type(n))\n",
    "\n",
    "n = \"foo\"\n",
    "print(type(n))"
   ]
  },
  {
   "cell_type": "markdown",
   "metadata": {
    "slideshow": {
     "slide_type": "slide"
    }
   },
   "source": [
    "## Assignment\n",
    "\n",
    "assignment differs from other imperative languages:\n",
    "\n",
    "- in C++ `i = 2` translates to _typed variable named i receives a copy of numeric value 2_\n",
    "- in Python `i = 2` translates to _name i receives a reference to object of numeric type of value 2_\n",
    "\n",
    "the built-in function `id` returns the object's id"
   ]
  },
  {
   "cell_type": "code",
   "execution_count": null,
   "metadata": {
    "slideshow": {
     "slide_type": "subslide"
    }
   },
   "outputs": [],
   "source": [
    "i = 2\n",
    "print(id(i))\n",
    "\n",
    "i = 2\n",
    "print(id(i))\n",
    "\n",
    "i = 3.3\n",
    "print(id(i))"
   ]
  },
  {
   "cell_type": "markdown",
   "metadata": {},
   "source": [
    "### the `is` operator\n",
    "\n",
    "`is` checks for object identity"
   ]
  },
  {
   "cell_type": "code",
   "execution_count": null,
   "metadata": {
    "slideshow": {
     "slide_type": "subslide"
    }
   },
   "outputs": [],
   "source": [
    "i = \"foo\"\n",
    "print(id(i))\n",
    "\n",
    "s = i\n",
    "print(s is i)  # same as print(id(s) == id(i))\n",
    "\n",
    "old_id = id(s)\n",
    "s += \"bar\"\n",
    "print(s is i)\n",
    "print(old_id == id(s))\n",
    "print(old_id == id(i))"
   ]
  },
  {
   "cell_type": "code",
   "execution_count": null,
   "metadata": {},
   "outputs": [],
   "source": [
    "a = 2\n",
    "b = a\n",
    "print(a is b)\n",
    "a += 1\n",
    "print(a is b)\n",
    "a -= 1\n",
    "print(a is b)"
   ]
  },
  {
   "cell_type": "markdown",
   "metadata": {
    "slideshow": {
     "slide_type": "slide"
    }
   },
   "source": [
    "# Simple statements"
   ]
  },
  {
   "cell_type": "markdown",
   "metadata": {
    "slideshow": {
     "slide_type": "slide"
    }
   },
   "source": [
    "## if, elif, else"
   ]
  },
  {
   "cell_type": "code",
   "execution_count": null,
   "metadata": {},
   "outputs": [],
   "source": [
    "# n = int(input())\n",
    "n = 12\n",
    "\n",
    "if n < 0:\n",
    "    print(\"N is negative\")\n",
    "elif n > 0:\n",
    "    print(\"N is positive\")\n",
    "else:\n",
    "    print(\"N is neither positive nor negative\")"
   ]
  },
  {
   "cell_type": "markdown",
   "metadata": {
    "slideshow": {
     "slide_type": "subslide"
    }
   },
   "source": [
    "## Conditional expressions\n",
    "\n",
    "- one-line `if` statements\n",
    "- the order of operands is different from C's `?:` operator, the C version of abs would look like this\n",
    "\n",
    "~~~C\n",
    "int x = -2;\n",
    "int abs_x = x>=0 ? x : -x;\n",
    "~~~\n",
    "- should only be used for very short statements\n",
    "\n",
    "\n",
    "`<expr1> if <condition> else <expr2>`"
   ]
  },
  {
   "cell_type": "code",
   "execution_count": null,
   "metadata": {},
   "outputs": [],
   "source": [
    "n = -2\n",
    "abs_n = n if n >= 0 else -n\n",
    "abs_n"
   ]
  },
  {
   "cell_type": "markdown",
   "metadata": {
    "slideshow": {
     "slide_type": "slide"
    }
   },
   "source": [
    "## Lists\n",
    "\n",
    "- lists are the most frequently used built-in containers\n",
    "- basic operations: indexing, length, append, extend\n",
    "- lists will be covered in detail next week"
   ]
  },
  {
   "cell_type": "code",
   "execution_count": null,
   "metadata": {},
   "outputs": [],
   "source": [
    "l = []  # empty list\n",
    "l.append(2)\n",
    "l.append(2)\n",
    "l.append(\"foo\")\n",
    "\n",
    "len(l), l"
   ]
  },
  {
   "cell_type": "code",
   "execution_count": null,
   "metadata": {
    "slideshow": {
     "slide_type": "subslide"
    }
   },
   "outputs": [],
   "source": [
    "l[1] = \"bar\"\n",
    "l.extend([-1, True])\n",
    "len(l), l"
   ]
  },
  {
   "cell_type": "markdown",
   "metadata": {
    "slideshow": {
     "slide_type": "slide"
    }
   },
   "source": [
    "## for, range\n",
    "\n",
    "### Iterating a list"
   ]
  },
  {
   "cell_type": "code",
   "execution_count": null,
   "metadata": {},
   "outputs": [],
   "source": [
    "l = [\"foo\", \"bar\"]\n",
    "for e in l:\n",
    "    e += \"abc\"\n",
    "    print(e)\n",
    "    \n",
    "l"
   ]
  },
  {
   "cell_type": "markdown",
   "metadata": {
    "slideshow": {
     "slide_type": "subslide"
    }
   },
   "source": [
    "### Iterating over a range of integers\n",
    "\n",
    "The same in C++:\n",
    "~~~C++\n",
    "for (int i=0; i<5; i++)\n",
    "    cout << i << endl;\n",
    "~~~\n",
    "\n",
    "By default `range` starts from 0."
   ]
  },
  {
   "cell_type": "code",
   "execution_count": null,
   "metadata": {},
   "outputs": [],
   "source": [
    "for i in range(5):\n",
    "    print(i)"
   ]
  },
  {
   "cell_type": "markdown",
   "metadata": {
    "slideshow": {
     "slide_type": "subslide"
    }
   },
   "source": [
    "specifying the start of the range:"
   ]
  },
  {
   "cell_type": "code",
   "execution_count": null,
   "metadata": {
    "slideshow": {
     "slide_type": "-"
    }
   },
   "outputs": [],
   "source": [
    "for i in range(2, 5):\n",
    "    print(i)"
   ]
  },
  {
   "cell_type": "markdown",
   "metadata": {
    "slideshow": {
     "slide_type": "fragment"
    }
   },
   "source": [
    "specifying the step. Note that in this case we need to specify all three positional arguments."
   ]
  },
  {
   "cell_type": "code",
   "execution_count": null,
   "metadata": {
    "slideshow": {
     "slide_type": "-"
    }
   },
   "outputs": [],
   "source": [
    "for i in range(0, 10, 2):\n",
    "    print(i)"
   ]
  },
  {
   "cell_type": "markdown",
   "metadata": {
    "slideshow": {
     "slide_type": "slide"
    }
   },
   "source": [
    "## while"
   ]
  },
  {
   "cell_type": "code",
   "execution_count": null,
   "metadata": {},
   "outputs": [],
   "source": [
    "i = 0\n",
    "while i < 5:\n",
    "    print(i)\n",
    "    i += 1\n",
    "i"
   ]
  },
  {
   "cell_type": "markdown",
   "metadata": {},
   "source": [
    "There is no `do...while` loop in Python."
   ]
  },
  {
   "cell_type": "markdown",
   "metadata": {
    "slideshow": {
     "slide_type": "slide"
    }
   },
   "source": [
    "## break and continue\n",
    "\n",
    "- `break`: allows early exit from a loop\n",
    "- `continue`: allows early jump to next iteration"
   ]
  },
  {
   "cell_type": "code",
   "execution_count": null,
   "metadata": {},
   "outputs": [],
   "source": [
    "for i in range(10):\n",
    "    if i % 2 == 0:\n",
    "        continue\n",
    "    print(i)"
   ]
  },
  {
   "cell_type": "code",
   "execution_count": null,
   "metadata": {
    "slideshow": {
     "slide_type": "subslide"
    }
   },
   "outputs": [],
   "source": [
    "for i in range(10):\n",
    "    if i > 4:\n",
    "        break\n",
    "    print(i)"
   ]
  },
  {
   "cell_type": "markdown",
   "metadata": {},
   "source": [
    "# The `print` function\n",
    "\n",
    "`print` automatically adds a newline after the string:"
   ]
  },
  {
   "cell_type": "code",
   "execution_count": null,
   "metadata": {},
   "outputs": [],
   "source": [
    "print(\"abc\")\n",
    "print(\"def\")"
   ]
  },
  {
   "cell_type": "markdown",
   "metadata": {},
   "source": [
    "`print` used to be a statement in Python2, it was changed into a function in Python3.\n",
    "\n",
    "Keyword arguments are possible:"
   ]
  },
  {
   "cell_type": "code",
   "execution_count": null,
   "metadata": {},
   "outputs": [],
   "source": [
    "print(\"abc\", end=\"\")\n",
    "print(\"def\")"
   ]
  },
  {
   "cell_type": "code",
   "execution_count": null,
   "metadata": {},
   "outputs": [],
   "source": [
    "%%python2\n",
    "\n",
    "print 12, 3"
   ]
  },
  {
   "cell_type": "markdown",
   "metadata": {},
   "source": [
    "`print` accepts an arbitrary number of positional arguments and calls `__str__` on each:"
   ]
  },
  {
   "cell_type": "code",
   "execution_count": null,
   "metadata": {},
   "outputs": [],
   "source": [
    "print(\"I am\", 25, \"years old\")"
   ]
  },
  {
   "cell_type": "markdown",
   "metadata": {},
   "source": [
    "the default separator (space) can be redefined"
   ]
  },
  {
   "cell_type": "code",
   "execution_count": null,
   "metadata": {},
   "outputs": [],
   "source": [
    "print(\"I am\", 25, \"years old\", sep=\"kiskutya\")"
   ]
  },
  {
   "cell_type": "markdown",
   "metadata": {
    "slideshow": {
     "slide_type": "slide"
    }
   },
   "source": [
    "# Functions"
   ]
  },
  {
   "cell_type": "markdown",
   "metadata": {
    "slideshow": {
     "slide_type": "slide"
    }
   },
   "source": [
    "# Defining functions\n",
    "\n",
    "Functions can be defined using the `def` keyword:"
   ]
  },
  {
   "cell_type": "code",
   "execution_count": null,
   "metadata": {},
   "outputs": [],
   "source": [
    "def foo():\n",
    "    print(\"this is a function\")\n",
    "     \n",
    "def foo():\n",
    "    print(\"This is a function\")\n",
    "     \n",
    "foo()"
   ]
  },
  {
   "cell_type": "markdown",
   "metadata": {
    "slideshow": {
     "slide_type": "subslide"
    }
   },
   "source": [
    "# Function arguments\n",
    "\n",
    "1. positional\n",
    "2. named or keyword arguments\n",
    "\n",
    "keyword arguments must follow positional arguments"
   ]
  },
  {
   "cell_type": "code",
   "execution_count": null,
   "metadata": {},
   "outputs": [],
   "source": [
    "def foo(arg1, arg2, arg3):\n",
    "    print(\"arg1 \", arg1)\n",
    "    print(\"arg2 \", arg2)\n",
    "    print(\"arg3 \", arg3)\n",
    "    \n",
    "foo(1, 2, \"asdfs\")"
   ]
  },
  {
   "cell_type": "code",
   "execution_count": null,
   "metadata": {},
   "outputs": [],
   "source": [
    "foo(1, arg3=2, arg2=29)"
   ]
  },
  {
   "cell_type": "markdown",
   "metadata": {
    "slideshow": {
     "slide_type": "subslide"
    }
   },
   "source": [
    "# Default arguments\n",
    "\n",
    "- arguments can have default values\n",
    "- default arguments must follow non-default arguments"
   ]
  },
  {
   "cell_type": "code",
   "execution_count": null,
   "metadata": {
    "scrolled": true
   },
   "outputs": [],
   "source": [
    "def foo(arg1, arg2, arg3=3):\n",
    "    print(\"arg1 \", arg1)\n",
    "    print(\"arg2 \", arg2)\n",
    "    print(\"arg3 \", arg3)\n",
    "foo(1, 2)"
   ]
  },
  {
   "cell_type": "markdown",
   "metadata": {},
   "source": [
    "Default arguments need not be specified when calling the function"
   ]
  },
  {
   "cell_type": "code",
   "execution_count": null,
   "metadata": {},
   "outputs": [],
   "source": [
    "foo(1, 2)"
   ]
  },
  {
   "cell_type": "code",
   "execution_count": null,
   "metadata": {},
   "outputs": [],
   "source": [
    "foo(arg1=1, arg3=33, arg2=222)"
   ]
  },
  {
   "cell_type": "markdown",
   "metadata": {
    "slideshow": {
     "slide_type": "subslide"
    }
   },
   "source": [
    "If more than one value has default arguments, either can be skipped:"
   ]
  },
  {
   "cell_type": "code",
   "execution_count": null,
   "metadata": {},
   "outputs": [],
   "source": [
    "def foo(arg1, arg2=2, *, arg3=3):\n",
    "    print(\"arg1 \", arg1)\n",
    "    print(\"arg2 \", arg2)\n",
    "    print(\"arg3 \", arg3)\n",
    "    \n",
    "foo(arg2=11, arg1=33)\n",
    "print(\"\")\n",
    "foo(11, arg3=33)\n",
    "# foo(1, 2, 3)  # TypeError"
   ]
  },
  {
   "cell_type": "markdown",
   "metadata": {
    "slideshow": {
     "slide_type": "subslide"
    }
   },
   "source": [
    "This mechanism allows having a very large number of arguments.\n",
    "Many libraries have functions with dozens of arguments."
   ]
  },
  {
   "cell_type": "markdown",
   "metadata": {
    "slideshow": {
     "slide_type": "fragment"
    }
   },
   "source": [
    "The popular data analysis library `pandas` has functions with dozens of arguments, for example:\n",
    "\n",
    "~~~python\n",
    " pandas.read_csv(filepath_or_buffer, sep=', ', delimiter=None, header='infer', names=None, index_col=None, usecols=None, squeeze=False, prefix=None, mangle_dupe_cols=True, dtype=None, engine=None, converters=None, true_values=None, false_values=None, skipinitialspace=False, skiprows=None, nrows=None, na_values=None, keep_default_na=True, na_filter=True, verbose=False, skip_blank_lines=True, parse_dates=False, infer_datetime_format=False, keep_date_col=False, date_parser=None, dayfirst=False, iterator=False, chunksize=None, compression='infer', thousands=None, decimal=b'.', lineterminator=None, quotechar='\"', quoting=0, escapechar=None, comment=None, encoding=None, dialect=None, tupleize_cols=False, error_bad_lines=True, warn_bad_lines=True, skipfooter=0, skip_footer=0, doublequote=True, delim_whitespace=False, as_recarray=False, compact_ints=False, use_unsigned=False, low_memory=True, buffer_lines=None, memory_map=False, float_precision=None)\n",
    " ~~~"
   ]
  },
  {
   "cell_type": "markdown",
   "metadata": {
    "slideshow": {
     "slide_type": "slide"
    }
   },
   "source": [
    "# The return statement\n",
    "\n",
    "- functions may return more than one value\n",
    "  - a tuple of the values is returned\n",
    "- without an explicit return statement `None` is returned\n",
    "- an empty return statement returns `None`"
   ]
  },
  {
   "cell_type": "code",
   "execution_count": null,
   "metadata": {},
   "outputs": [],
   "source": [
    "def foo(n):\n",
    "    if n < 0:\n",
    "        return \"negative\"\n",
    "    if 0 <= n < 10:\n",
    "        return \"positive\", n\n",
    "    # return None\n",
    "    # return\n",
    "\n",
    "print(foo(-2))\n",
    "print(foo(3), type(foo(3)))\n",
    "print(foo(12))"
   ]
  },
  {
   "cell_type": "markdown",
   "metadata": {
    "slideshow": {
     "slide_type": "slide"
    }
   },
   "source": [
    "# Zen of Python"
   ]
  },
  {
   "cell_type": "code",
   "execution_count": null,
   "metadata": {},
   "outputs": [],
   "source": [
    "import this"
   ]
  }
 ],
 "metadata": {
  "kernelspec": {
   "display_name": "Python 3",
   "language": "python",
   "name": "python3"
  },
  "language_info": {
   "codemirror_mode": {
    "name": "ipython",
    "version": 3
   },
   "file_extension": ".py",
   "mimetype": "text/x-python",
   "name": "python",
   "nbconvert_exporter": "python",
   "pygments_lexer": "ipython3",
   "version": "3.6.5"
  }
 },
 "nbformat": 4,
 "nbformat_minor": 2
}
